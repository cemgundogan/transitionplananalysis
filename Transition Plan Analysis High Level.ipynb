{
  "nbformat": 4,
  "nbformat_minor": 0,
  "metadata": {
    "colab": {
      "provenance": []
    },
    "kernelspec": {
      "name": "python3",
      "display_name": "Python 3"
    },
    "language_info": {
      "name": "python"
    }
  },
  "cells": [
    {
      "cell_type": "markdown",
      "source": [
        "Supporting Google Colab document for the Medium tutorial [\"AI for sustainability (#1): A tool for analyzing company transition plans\"](https://medium.com/@schimanski.tobi/ai-for-sustainability-1-a-tool-for-analyzing-company-transition-plans-7d75853f933b?source=friends_link&sk=d7c5aaf0af36d4618d26fdc1c34abf01). Please have a read to understand how we got here. Also feel free to read the [paper for this tool](https://papers.ssrn.com/sol3/papers.cfm?abstract_id=4826207).\n",
        "\n",
        "Let's start with the code. We actually only have to do three steps to analyse full reports along 64 indicators.\n",
        "\n",
        "This file will resets every time you open it. So you might want to download or store your results somewhere."
      ],
      "metadata": {
        "id": "4w_A-zBnJ9ED"
      }
    },
    {
      "cell_type": "markdown",
      "source": [
        "## 1. Clone the GitHub Repository\n",
        "\n",
        "Execute this code:"
      ],
      "metadata": {
        "id": "W2xHHy7DKbr2"
      }
    },
    {
      "cell_type": "code",
      "execution_count": null,
      "metadata": {
        "id": "eg6EI_SGASMl"
      },
      "outputs": [],
      "source": [
        "!git clone https://github.com/tobischimanski/transition_NLP.git\n",
        "# move to folder and show content\n",
        "%cd transition_NLP/\n",
        "%ls"
      ]
    },
    {
      "cell_type": "markdown",
      "source": [
        "If you click on the \"folder\" object on the left, then you'll see some data and code has been downloaded inside the folder \"transition_NLP\". Amongst others, you can already see examples of how the output will look like, test data and the code."
      ],
      "metadata": {
        "id": "g7edK6vOKjON"
      }
    },
    {
      "cell_type": "markdown",
      "source": [
        "## 2. Install the requirements"
      ],
      "metadata": {
        "id": "DqzhqAPTL2wf"
      }
    },
    {
      "cell_type": "markdown",
      "source": [
        "We need openai and llama-index for running the code."
      ],
      "metadata": {
        "id": "gvCNFXJPL78l"
      }
    },
    {
      "cell_type": "code",
      "source": [
        "!pip install -r requirements.txt"
      ],
      "metadata": {
        "id": "usOUdIGDL7Nc"
      },
      "execution_count": null,
      "outputs": []
    },
    {
      "cell_type": "markdown",
      "source": [
        "## 3. Run the code"
      ],
      "metadata": {
        "id": "eBqOO-0bMBG0"
      }
    },
    {
      "cell_type": "markdown",
      "source": [
        "**IMPORTANT**: For running the code, you will need an own OpenAI API key. Please follow [this tutorial](https://www.merge.dev/blog/chatgpt-api-key) to create an API key. The API key will look something like \"sk-...\"."
      ],
      "metadata": {
        "id": "sfOe8RMIMFm5"
      }
    },
    {
      "cell_type": "markdown",
      "source": [
        "The code requires four inputs:\n",
        "\n",
        "- The OpenAI API key (you've just created). It should look something like \"sk-…\".\n",
        "- The path to the file you want to analyze. In this example, we use the Volkswagen 2022 sustainability report that is already in the folder \"Test_Data\".\n",
        "- The model, you want to use. In the example, we use gpt-4o. I would recommend using gpt-3.5-turbo for playing around (marginal cost) and gpt-4o for production these days (see all models [here](https://platform.openai.com/docs/models/)).\n",
        "- Optional: For testing, it might make sense to not run all 64 indicators. By adding a number k in the end (e.g., 4), you limit the analysis to the first k indicators."
      ],
      "metadata": {
        "id": "Zk34gwnEdqxW"
      }
    },
    {
      "cell_type": "code",
      "source": [
        "# Usage pattern: python transition_analysis.py api_key report model [num indicators]\n",
        "# Example\n",
        "# FILL IN YOUR API KEY HERE\n",
        "!python transition_analysis.py sk-... ./Test_Data/CSR_VOW3_2022.pdf gpt-4o"
      ],
      "metadata": {
        "id": "lX-FCjQ2P_Gl"
      },
      "execution_count": null,
      "outputs": []
    },
    {
      "cell_type": "markdown",
      "source": [
        "## Explore Output\n",
        "\n",
        "If you have run this code, you will find a new Excel in the folder \"Excel_Output\" with the name \"CSR_VOW3_2022_gpt-4o_topk8_paramsall.xlsx\". This signals the name of the report, the model used for answering, and finally \"paramsall\" shows you that you used all 64 indicators (not just a subset). \"topk8\" is a topic for further tutorials.\n",
        "\n",
        "You can download the Excel and look at it or explore it in code. Since I'm not sure that everyone could run this because of the API key, I'll explore the output that is already there, i.e., \"CSR_VOW3_2022_gpt-4_topk8_paramsall.xlsx\" with was created with GPT-4 instead of GPT-4o."
      ],
      "metadata": {
        "id": "S7wWpNpWacGB"
      }
    },
    {
      "cell_type": "code",
      "source": [
        "# load already existing data\n",
        "import pandas as pd\n",
        "output_gpt4 = pd.read_excel(\"./Excel_Output/CSR_VOW3_2022_gpt-4_topk8_paramsall.xlsx\", index_col=0)"
      ],
      "metadata": {
        "id": "lGFWDZrLakt6"
      },
      "execution_count": null,
      "outputs": []
    },
    {
      "cell_type": "code",
      "source": [
        "# show first five rows\n",
        "output_gpt4.head()"
      ],
      "metadata": {
        "id": "E0fhAbaea4RK"
      },
      "execution_count": null,
      "outputs": []
    }
  ]
}
